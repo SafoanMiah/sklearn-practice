{
 "cells": [
  {
   "cell_type": "markdown",
   "metadata": {},
   "source": [
    "# RECOMMENDATION SYSTEMS (SIMPLE)"
   ]
  },
  {
   "cell_type": "markdown",
   "metadata": {},
   "source": [
    "**Content Based**\n",
    "- Focus on the attributes of the items and gives recommendations based on similarity of the items\n",
    "\n",
    "**Collaborative Filtering (CF)**\n",
    "- Based on knowledge of users attitude towards items, that uses the the 'wisdom of the crowd' to recommedn items"
   ]
  },
  {
   "cell_type": "markdown",
   "metadata": {},
   "source": [
    "CF:\n",
    "- Momory Based Collaborative Filtering\n",
    "- Model based Collaborative FIltering"
   ]
  }
 ],
 "metadata": {
  "language_info": {
   "name": "python"
  }
 },
 "nbformat": 4,
 "nbformat_minor": 2
}
